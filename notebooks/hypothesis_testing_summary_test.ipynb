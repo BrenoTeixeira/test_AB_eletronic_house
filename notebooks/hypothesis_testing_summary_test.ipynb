{
 "cells": [
  {
   "attachments": {},
   "cell_type": "markdown",
   "metadata": {},
   "source": [
    "# TESTE A/B "
   ]
  },
  {
   "attachments": {},
   "cell_type": "markdown",
   "metadata": {},
   "source": [
    "# Dicionário dos Dados"
   ]
  },
  {
   "attachments": {},
   "cell_type": "markdown",
   "metadata": {},
   "source": [
    "|Atributo|Tipo|Descrição|\n",
    "|-------|----|-----------|\n",
    "|uid|int64| Identificador único do cliente|\n",
    "|country|object| País do cliente|\n",
    "|gender|object| Gênero do cliente|\n",
    "|spent|int64| Total gasto na transação|\n",
    "|purchases|int64| Número de compras realizadas na transação|\n",
    "|date|datetime64[ns]| Data da compra|\n",
    "|group|object| GROUP B (Controle) ->  Manual , GROUP A (Tratamento) -> Automático|\n",
    "|device |object| Dispositivo em que a compra foi realizada (I-> Site, A -> App)|"
   ]
  },
  {
   "attachments": {},
   "cell_type": "markdown",
   "metadata": {},
   "source": [
    "# 1.0 Imports"
   ]
  },
  {
   "cell_type": "code",
   "execution_count": 1,
   "metadata": {},
   "outputs": [],
   "source": [
    "import pandas as pd\n",
    "import numpy as np\n",
    "from statsmodels.stats import api as sms\n",
    "import statsmodels.api as sma\n",
    "import numpy as np\n",
    "import math\n",
    "import seaborn as sns\n",
    "import matplotlib.pyplot as plt\n",
    "import scipy.stats as st\n",
    "from src import GeneralUtils as gu\n",
    "import plotly.express as px\n",
    "import warnings\n",
    "from cliffs_delta import cliffs_delta"
   ]
  },
  {
   "cell_type": "code",
   "execution_count": 2,
   "metadata": {},
   "outputs": [],
   "source": [
    "test_lift = lambda mean2, mean1: (mean2 - mean1)/mean1"
   ]
  },
  {
   "cell_type": "code",
   "execution_count": 3,
   "metadata": {},
   "outputs": [],
   "source": [
    "warnings.filterwarnings('ignore')\n",
    "sns.set_style('darkgrid')\n",
    "pd.set_option('display.max_colwidth', None)"
   ]
  },
  {
   "cell_type": "markdown",
   "metadata": {},
   "source": [
    "## 1.1 Load Data"
   ]
  },
  {
   "cell_type": "code",
   "execution_count": 4,
   "metadata": {},
   "outputs": [
    {
     "data": {
      "text/html": [
       "<div>\n",
       "<style scoped>\n",
       "    .dataframe tbody tr th:only-of-type {\n",
       "        vertical-align: middle;\n",
       "    }\n",
       "\n",
       "    .dataframe tbody tr th {\n",
       "        vertical-align: top;\n",
       "    }\n",
       "\n",
       "    .dataframe thead th {\n",
       "        text-align: right;\n",
       "    }\n",
       "</style>\n",
       "<table border=\"1\" class=\"dataframe\">\n",
       "  <thead>\n",
       "    <tr style=\"text-align: right;\">\n",
       "      <th></th>\n",
       "      <th>uid</th>\n",
       "      <th>country</th>\n",
       "      <th>gender</th>\n",
       "      <th>spent</th>\n",
       "      <th>purchases</th>\n",
       "      <th>date</th>\n",
       "      <th>group</th>\n",
       "      <th>device</th>\n",
       "    </tr>\n",
       "  </thead>\n",
       "  <tbody>\n",
       "    <tr>\n",
       "      <th>0</th>\n",
       "      <td>11115722</td>\n",
       "      <td>MEX</td>\n",
       "      <td>F</td>\n",
       "      <td>1595</td>\n",
       "      <td>5</td>\n",
       "      <td>2016-03-08</td>\n",
       "      <td>GRP B</td>\n",
       "      <td>I</td>\n",
       "    </tr>\n",
       "    <tr>\n",
       "      <th>1</th>\n",
       "      <td>11122053</td>\n",
       "      <td>USA</td>\n",
       "      <td>M</td>\n",
       "      <td>498</td>\n",
       "      <td>2</td>\n",
       "      <td>2017-07-14</td>\n",
       "      <td>GRP B</td>\n",
       "      <td>I</td>\n",
       "    </tr>\n",
       "    <tr>\n",
       "      <th>2</th>\n",
       "      <td>11128688</td>\n",
       "      <td>USA</td>\n",
       "      <td>F</td>\n",
       "      <td>2394</td>\n",
       "      <td>6</td>\n",
       "      <td>2017-09-17</td>\n",
       "      <td>GRP A</td>\n",
       "      <td>I</td>\n",
       "    </tr>\n",
       "    <tr>\n",
       "      <th>3</th>\n",
       "      <td>11130578</td>\n",
       "      <td>USA</td>\n",
       "      <td>F</td>\n",
       "      <td>1197</td>\n",
       "      <td>3</td>\n",
       "      <td>2017-11-30</td>\n",
       "      <td>GRP A</td>\n",
       "      <td>I</td>\n",
       "    </tr>\n",
       "    <tr>\n",
       "      <th>4</th>\n",
       "      <td>11130759</td>\n",
       "      <td>ESP</td>\n",
       "      <td>M</td>\n",
       "      <td>1297</td>\n",
       "      <td>3</td>\n",
       "      <td>2018-01-10</td>\n",
       "      <td>GRP B</td>\n",
       "      <td>A</td>\n",
       "    </tr>\n",
       "  </tbody>\n",
       "</table>\n",
       "</div>"
      ],
      "text/plain": [
       "        uid country gender  spent  purchases        date  group device\n",
       "0  11115722     MEX      F   1595          5  2016-03-08  GRP B      I\n",
       "1  11122053     USA      M    498          2  2017-07-14  GRP B      I\n",
       "2  11128688     USA      F   2394          6  2017-09-17  GRP A      I\n",
       "3  11130578     USA      F   1197          3  2017-11-30  GRP A      I\n",
       "4  11130759     ESP      M   1297          3  2018-01-10  GRP B      A"
      ]
     },
     "execution_count": 4,
     "metadata": {},
     "output_type": "execute_result"
    }
   ],
   "source": [
    "df_raw = pd.read_csv('../data/ab_testing.csv')\n",
    "df_raw.head()"
   ]
  },
  {
   "cell_type": "markdown",
   "metadata": {},
   "source": [
    "![green-divider](https://user-images.githubusercontent.com/7065401/52071924-c003ad80-2562-11e9-8297-1c6595f8a7ff.png)\n"
   ]
  },
  {
   "cell_type": "markdown",
   "metadata": {},
   "source": [
    "# 2.0 Descrição dos Dados"
   ]
  },
  {
   "cell_type": "code",
   "execution_count": 5,
   "metadata": {},
   "outputs": [],
   "source": [
    "df1 = df_raw.copy()"
   ]
  },
  {
   "cell_type": "markdown",
   "metadata": {},
   "source": [
    "## 2.2 Checando valores faltantes e Tipos de dados"
   ]
  },
  {
   "cell_type": "code",
   "execution_count": 6,
   "metadata": {},
   "outputs": [
    {
     "name": "stdout",
     "output_type": "stream",
     "text": [
      "Number of rows: 45883\n",
      "Number of Cols: 8\n"
     ]
    }
   ],
   "source": [
    "print(f'Number of rows: {df1.shape[0]}')\n",
    "print(f'Number of Cols: {df1.shape[1]}')"
   ]
  },
  {
   "attachments": {},
   "cell_type": "markdown",
   "metadata": {},
   "source": [
    "## 2.2 Checando valores faltantes e Tipos de dados"
   ]
  },
  {
   "cell_type": "code",
   "execution_count": 7,
   "metadata": {},
   "outputs": [
    {
     "data": {
      "text/html": [
       "<div>\n",
       "<style scoped>\n",
       "    .dataframe tbody tr th:only-of-type {\n",
       "        vertical-align: middle;\n",
       "    }\n",
       "\n",
       "    .dataframe tbody tr th {\n",
       "        vertical-align: top;\n",
       "    }\n",
       "\n",
       "    .dataframe thead th {\n",
       "        text-align: right;\n",
       "    }\n",
       "</style>\n",
       "<table border=\"1\" class=\"dataframe\">\n",
       "  <thead>\n",
       "    <tr style=\"text-align: right;\">\n",
       "      <th></th>\n",
       "      <th>Name</th>\n",
       "      <th>dtypes</th>\n",
       "      <th>Uniques</th>\n",
       "      <th>Missing</th>\n",
       "      <th>Missing %</th>\n",
       "    </tr>\n",
       "  </thead>\n",
       "  <tbody>\n",
       "    <tr>\n",
       "      <th>0</th>\n",
       "      <td>uid</td>\n",
       "      <td>int64</td>\n",
       "      <td>45883</td>\n",
       "      <td>0</td>\n",
       "      <td>0.0</td>\n",
       "    </tr>\n",
       "    <tr>\n",
       "      <th>1</th>\n",
       "      <td>country</td>\n",
       "      <td>object</td>\n",
       "      <td>10</td>\n",
       "      <td>0</td>\n",
       "      <td>0.0</td>\n",
       "    </tr>\n",
       "    <tr>\n",
       "      <th>2</th>\n",
       "      <td>gender</td>\n",
       "      <td>object</td>\n",
       "      <td>2</td>\n",
       "      <td>0</td>\n",
       "      <td>0.0</td>\n",
       "    </tr>\n",
       "    <tr>\n",
       "      <th>3</th>\n",
       "      <td>spent</td>\n",
       "      <td>int64</td>\n",
       "      <td>641</td>\n",
       "      <td>0</td>\n",
       "      <td>0.0</td>\n",
       "    </tr>\n",
       "    <tr>\n",
       "      <th>4</th>\n",
       "      <td>purchases</td>\n",
       "      <td>int64</td>\n",
       "      <td>26</td>\n",
       "      <td>0</td>\n",
       "      <td>0.0</td>\n",
       "    </tr>\n",
       "    <tr>\n",
       "      <th>5</th>\n",
       "      <td>date</td>\n",
       "      <td>object</td>\n",
       "      <td>1316</td>\n",
       "      <td>0</td>\n",
       "      <td>0.0</td>\n",
       "    </tr>\n",
       "    <tr>\n",
       "      <th>6</th>\n",
       "      <td>group</td>\n",
       "      <td>object</td>\n",
       "      <td>2</td>\n",
       "      <td>0</td>\n",
       "      <td>0.0</td>\n",
       "    </tr>\n",
       "    <tr>\n",
       "      <th>7</th>\n",
       "      <td>device</td>\n",
       "      <td>object</td>\n",
       "      <td>2</td>\n",
       "      <td>0</td>\n",
       "      <td>0.0</td>\n",
       "    </tr>\n",
       "  </tbody>\n",
       "</table>\n",
       "</div>"
      ],
      "text/plain": [
       "        Name  dtypes  Uniques  Missing  Missing %\n",
       "0        uid   int64    45883        0        0.0\n",
       "1    country  object       10        0        0.0\n",
       "2     gender  object        2        0        0.0\n",
       "3      spent   int64      641        0        0.0\n",
       "4  purchases   int64       26        0        0.0\n",
       "5       date  object     1316        0        0.0\n",
       "6      group  object        2        0        0.0\n",
       "7     device  object        2        0        0.0"
      ]
     },
     "execution_count": 7,
     "metadata": {},
     "output_type": "execute_result"
    }
   ],
   "source": [
    "gu.sum_table(df1)"
   ]
  },
  {
   "attachments": {},
   "cell_type": "markdown",
   "metadata": {},
   "source": [
    "## 2.3. Corrigindo Tipos de Dados"
   ]
  },
  {
   "cell_type": "code",
   "execution_count": 8,
   "metadata": {},
   "outputs": [],
   "source": [
    "df1['date'] = pd.to_datetime(df1['date'])\n",
    "df_aux = df1.copy()\n",
    "df_aux['year_month'] = df_aux['date'].dt.strftime('%Y-%m')"
   ]
  },
  {
   "cell_type": "markdown",
   "metadata": {},
   "source": [
    "![green-divider](https://user-images.githubusercontent.com/7065401/52071924-c003ad80-2562-11e9-8297-1c6595f8a7ff.png)\n"
   ]
  },
  {
   "attachments": {},
   "cell_type": "markdown",
   "metadata": {},
   "source": [
    "# 3.0 Design de Experimento"
   ]
  },
  {
   "attachments": {},
   "cell_type": "markdown",
   "metadata": {},
   "source": [
    "Para realizar este experimento, nós iremos realizar testes para cada país por tipo de dispositivo.\n",
    "\n",
    "O time de negócio definiu que, para valer a pena implementar esta mudança, é necessário um aumento de 8% na média de gastos."
   ]
  },
  {
   "attachments": {},
   "cell_type": "markdown",
   "metadata": {},
   "source": [
    "## 3.1. Site\n",
    "Experimento: Mudança na forma de pagamento da página de vendas.\n",
    "\n",
    "Hipótese Nula: O preenchimento automático e o preenchimento manual possuem médias de gastos iguais.\n",
    "\n",
    "Hipótese Alternativa: As médias de gastos das duas formas de pagamento são diferentes.\n",
    "\n",
    "Unidade de Randomização -> Usuários.\n",
    "\n",
    "População da unidade de randomização -> Usuários que realizaram compras no site.\n",
    "\n",
    "\n",
    "## 3.2. App\n",
    "Experimento: Mudança na forma de pagamento da página de vendas.\n",
    "\n",
    "Hipótese Nula: O preenchimento automático e o preenchimento manual possuem médias de gastos iguais.\n",
    "\n",
    "Hipótese Alternativa: As médias de gastos das duas formas de pagamento são diferentes.\n",
    "\n",
    "Unidade de Randomização -> Usuários.\n",
    "\n",
    "População da unidade de randomização -> Usuários que realizaram compras no app.\n",
    "\n"
   ]
  },
  {
   "attachments": {},
   "cell_type": "markdown",
   "metadata": {},
   "source": [
    "## 3.3 Parâmentros (definição do tamanho das amostras)."
   ]
  },
  {
   "attachments": {},
   "cell_type": "markdown",
   "metadata": {},
   "source": [
    "Para este experimento, os seguintes parâmetros:\n",
    "\n",
    "nível de significância = 0.05\n",
    "\n",
    "poder estatístico = 0.80\n",
    "\n",
    "efeito prático ->\n",
    "\n",
    "O efeito prático pode ser definido utilizando dados históricos, mas neste dataset há apenas os dados do experimento, então iremos calcular o effect size com base nos dados do grupo controle de cada país e tipo de dispositivos.\n",
    "\n",
    "Outra maneira seria definir um valor arbitrário para o cohen's d e usá-lo para o cálculo do tamanho da amostra necessário. Mas esta prática não é recomendada, pois não temos uma noção muito boa do tamanho do aumento — cohen's d é adimensional.\n",
    "\n",
    "effect_size = avg_control * (1 + lift) -  avg_control\n",
    "\n",
    "avg_control = média do grupo controle.\n",
    "lift = ganho esperado pelo time de negócio."
   ]
  },
  {
   "cell_type": "code",
   "execution_count": 9,
   "metadata": {},
   "outputs": [],
   "source": [
    "confidence_lvl = 0.95\n",
    "\n",
    "significance_lvl = 0.05\n",
    "\n",
    "lift = 0.08\n",
    "#effect_size = avg_control * (1 + lift) -  avg_control\n",
    "power = 0.80"
   ]
  },
  {
   "cell_type": "code",
   "execution_count": 10,
   "metadata": {},
   "outputs": [],
   "source": [
    "import warnings\n",
    "warnings.filterwarnings('ignore')"
   ]
  },
  {
   "attachments": {},
   "cell_type": "markdown",
   "metadata": {},
   "source": [
    "## 3.4. Verificando se há amostras suficientes para o teste em cada país."
   ]
  },
  {
   "cell_type": "code",
   "execution_count": 11,
   "metadata": {},
   "outputs": [],
   "source": [
    "countries = df1.country.unique()\n",
    "dataframes = {}\n",
    "for country in countries:\n",
    "\n",
    "    country_df = df1.query(f\"country == '{country}'\")\n",
    "    dataframes[country] = country_df"
   ]
  },
  {
   "cell_type": "code",
   "execution_count": 12,
   "metadata": {},
   "outputs": [
    {
     "data": {
      "text/html": [
       "<div>\n",
       "<style scoped>\n",
       "    .dataframe tbody tr th:only-of-type {\n",
       "        vertical-align: middle;\n",
       "    }\n",
       "\n",
       "    .dataframe tbody tr th {\n",
       "        vertical-align: top;\n",
       "    }\n",
       "\n",
       "    .dataframe thead th {\n",
       "        text-align: right;\n",
       "    }\n",
       "</style>\n",
       "<table border=\"1\" class=\"dataframe\">\n",
       "  <thead>\n",
       "    <tr style=\"text-align: right;\">\n",
       "      <th></th>\n",
       "      <th>Country</th>\n",
       "      <th>Device</th>\n",
       "      <th>Sample size</th>\n",
       "      <th>Group B</th>\n",
       "      <th>Group A</th>\n",
       "      <th>Status</th>\n",
       "    </tr>\n",
       "  </thead>\n",
       "  <tbody>\n",
       "    <tr>\n",
       "      <th>0</th>\n",
       "      <td>MEX</td>\n",
       "      <td>site</td>\n",
       "      <td>1242</td>\n",
       "      <td>1355</td>\n",
       "      <td>1435</td>\n",
       "      <td>There is enough data to run the test.</td>\n",
       "    </tr>\n",
       "    <tr>\n",
       "      <th>1</th>\n",
       "      <td>USA</td>\n",
       "      <td>site</td>\n",
       "      <td>1277</td>\n",
       "      <td>3531</td>\n",
       "      <td>3426</td>\n",
       "      <td>There is enough data to run the test.</td>\n",
       "    </tr>\n",
       "    <tr>\n",
       "      <th>2</th>\n",
       "      <td>ESP</td>\n",
       "      <td>site</td>\n",
       "      <td>1168</td>\n",
       "      <td>473</td>\n",
       "      <td>521</td>\n",
       "      <td>Not enough data to run the test.</td>\n",
       "    </tr>\n",
       "    <tr>\n",
       "      <th>3</th>\n",
       "      <td>GBR</td>\n",
       "      <td>site</td>\n",
       "      <td>1299</td>\n",
       "      <td>691</td>\n",
       "      <td>684</td>\n",
       "      <td>Not enough data to run the test.</td>\n",
       "    </tr>\n",
       "    <tr>\n",
       "      <th>4</th>\n",
       "      <td>TUR</td>\n",
       "      <td>site</td>\n",
       "      <td>1281</td>\n",
       "      <td>880</td>\n",
       "      <td>935</td>\n",
       "      <td>Not enough data to run the test.</td>\n",
       "    </tr>\n",
       "    <tr>\n",
       "      <th>5</th>\n",
       "      <td>DEU</td>\n",
       "      <td>site</td>\n",
       "      <td>1325</td>\n",
       "      <td>917</td>\n",
       "      <td>931</td>\n",
       "      <td>Not enough data to run the test.</td>\n",
       "    </tr>\n",
       "    <tr>\n",
       "      <th>6</th>\n",
       "      <td>BRA</td>\n",
       "      <td>site</td>\n",
       "      <td>1310</td>\n",
       "      <td>2207</td>\n",
       "      <td>2310</td>\n",
       "      <td>There is enough data to run the test.</td>\n",
       "    </tr>\n",
       "    <tr>\n",
       "      <th>7</th>\n",
       "      <td>FRA</td>\n",
       "      <td>site</td>\n",
       "      <td>1313</td>\n",
       "      <td>694</td>\n",
       "      <td>680</td>\n",
       "      <td>Not enough data to run the test.</td>\n",
       "    </tr>\n",
       "    <tr>\n",
       "      <th>8</th>\n",
       "      <td>AUS</td>\n",
       "      <td>site</td>\n",
       "      <td>1257</td>\n",
       "      <td>259</td>\n",
       "      <td>239</td>\n",
       "      <td>Not enough data to run the test.</td>\n",
       "    </tr>\n",
       "    <tr>\n",
       "      <th>9</th>\n",
       "      <td>CAN</td>\n",
       "      <td>site</td>\n",
       "      <td>1238</td>\n",
       "      <td>372</td>\n",
       "      <td>361</td>\n",
       "      <td>Not enough data to run the test.</td>\n",
       "    </tr>\n",
       "  </tbody>\n",
       "</table>\n",
       "</div>"
      ],
      "text/plain": [
       "  Country Device Sample size Group B Group A  \\\n",
       "0     MEX   site        1242    1355    1435   \n",
       "1     USA   site        1277    3531    3426   \n",
       "2     ESP   site        1168     473     521   \n",
       "3     GBR   site        1299     691     684   \n",
       "4     TUR   site        1281     880     935   \n",
       "5     DEU   site        1325     917     931   \n",
       "6     BRA   site        1310    2207    2310   \n",
       "7     FRA   site        1313     694     680   \n",
       "8     AUS   site        1257     259     239   \n",
       "9     CAN   site        1238     372     361   \n",
       "\n",
       "                                  Status  \n",
       "0  There is enough data to run the test.  \n",
       "1  There is enough data to run the test.  \n",
       "2       Not enough data to run the test.  \n",
       "3       Not enough data to run the test.  \n",
       "4       Not enough data to run the test.  \n",
       "5       Not enough data to run the test.  \n",
       "6  There is enough data to run the test.  \n",
       "7       Not enough data to run the test.  \n",
       "8       Not enough data to run the test.  \n",
       "9       Not enough data to run the test.  "
      ]
     },
     "execution_count": 12,
     "metadata": {},
     "output_type": "execute_result"
    }
   ],
   "source": [
    "sizes_df = pd.DataFrame()\n",
    "data_sizes_countries_site = {}\n",
    "\n",
    "for country in countries:\n",
    "    \n",
    "    dfs = gu.data(dataframes[country])\n",
    "    x_b = dfs['site_b'].spent\n",
    "    stdev = x_b.std()\n",
    "    avg1 = x_b.mean()\n",
    "    effect_size = (avg1 * (1 + lift) - avg1)/stdev\n",
    "\n",
    "    size = gu.sample_n(alpha=significance_lvl, power=power, effect_size=effect_size)\n",
    "    data_sizes_countries_site[country] = size\n",
    "\n",
    "    size_site_a = len(dfs['site_a'])\n",
    "    size_site_b = len(dfs['site_b'])\n",
    "\n",
    "    status = \"Not enough data to run the test.\" if min(size_site_a, size_site_b) < size else \"There is enough data to run the test.\"\n",
    "\n",
    "    result = {'Country': country, 'Device': 'site', 'Sample size': size, 'Group B': size_site_b, 'Group A': size_site_a, 'Status': status}\n",
    "\n",
    "    sizes_df = pd.concat([sizes_df, pd.Series(result)], axis=1)\n",
    "\n",
    "sizes_df.T.reset_index(drop=True)"
   ]
  },
  {
   "cell_type": "code",
   "execution_count": 13,
   "metadata": {},
   "outputs": [
    {
     "data": {
      "text/html": [
       "<div>\n",
       "<style scoped>\n",
       "    .dataframe tbody tr th:only-of-type {\n",
       "        vertical-align: middle;\n",
       "    }\n",
       "\n",
       "    .dataframe tbody tr th {\n",
       "        vertical-align: top;\n",
       "    }\n",
       "\n",
       "    .dataframe thead th {\n",
       "        text-align: right;\n",
       "    }\n",
       "</style>\n",
       "<table border=\"1\" class=\"dataframe\">\n",
       "  <thead>\n",
       "    <tr style=\"text-align: right;\">\n",
       "      <th></th>\n",
       "      <th>Country</th>\n",
       "      <th>Device</th>\n",
       "      <th>Sample size</th>\n",
       "      <th>Group B</th>\n",
       "      <th>Group A</th>\n",
       "      <th>Status</th>\n",
       "    </tr>\n",
       "  </thead>\n",
       "  <tbody>\n",
       "    <tr>\n",
       "      <th>0</th>\n",
       "      <td>MEX</td>\n",
       "      <td>site</td>\n",
       "      <td>1275</td>\n",
       "      <td>1287</td>\n",
       "      <td>1451</td>\n",
       "      <td>There is enough data to run the test.</td>\n",
       "    </tr>\n",
       "    <tr>\n",
       "      <th>1</th>\n",
       "      <td>USA</td>\n",
       "      <td>site</td>\n",
       "      <td>1291</td>\n",
       "      <td>3540</td>\n",
       "      <td>3501</td>\n",
       "      <td>There is enough data to run the test.</td>\n",
       "    </tr>\n",
       "    <tr>\n",
       "      <th>2</th>\n",
       "      <td>ESP</td>\n",
       "      <td>site</td>\n",
       "      <td>1115</td>\n",
       "      <td>491</td>\n",
       "      <td>449</td>\n",
       "      <td>Not enough data to run the test.</td>\n",
       "    </tr>\n",
       "    <tr>\n",
       "      <th>3</th>\n",
       "      <td>GBR</td>\n",
       "      <td>site</td>\n",
       "      <td>1221</td>\n",
       "      <td>732</td>\n",
       "      <td>702</td>\n",
       "      <td>Not enough data to run the test.</td>\n",
       "    </tr>\n",
       "    <tr>\n",
       "      <th>4</th>\n",
       "      <td>TUR</td>\n",
       "      <td>site</td>\n",
       "      <td>1381</td>\n",
       "      <td>862</td>\n",
       "      <td>860</td>\n",
       "      <td>Not enough data to run the test.</td>\n",
       "    </tr>\n",
       "    <tr>\n",
       "      <th>5</th>\n",
       "      <td>DEU</td>\n",
       "      <td>site</td>\n",
       "      <td>1150</td>\n",
       "      <td>889</td>\n",
       "      <td>959</td>\n",
       "      <td>Not enough data to run the test.</td>\n",
       "    </tr>\n",
       "    <tr>\n",
       "      <th>6</th>\n",
       "      <td>BRA</td>\n",
       "      <td>site</td>\n",
       "      <td>1281</td>\n",
       "      <td>2284</td>\n",
       "      <td>2208</td>\n",
       "      <td>There is enough data to run the test.</td>\n",
       "    </tr>\n",
       "    <tr>\n",
       "      <th>7</th>\n",
       "      <td>FRA</td>\n",
       "      <td>site</td>\n",
       "      <td>1290</td>\n",
       "      <td>715</td>\n",
       "      <td>753</td>\n",
       "      <td>Not enough data to run the test.</td>\n",
       "    </tr>\n",
       "    <tr>\n",
       "      <th>8</th>\n",
       "      <td>AUS</td>\n",
       "      <td>site</td>\n",
       "      <td>1405</td>\n",
       "      <td>252</td>\n",
       "      <td>267</td>\n",
       "      <td>Not enough data to run the test.</td>\n",
       "    </tr>\n",
       "    <tr>\n",
       "      <th>9</th>\n",
       "      <td>CAN</td>\n",
       "      <td>site</td>\n",
       "      <td>1175</td>\n",
       "      <td>443</td>\n",
       "      <td>337</td>\n",
       "      <td>Not enough data to run the test.</td>\n",
       "    </tr>\n",
       "  </tbody>\n",
       "</table>\n",
       "</div>"
      ],
      "text/plain": [
       "  Country Device Sample size Group B Group A  \\\n",
       "0     MEX   site        1275    1287    1451   \n",
       "1     USA   site        1291    3540    3501   \n",
       "2     ESP   site        1115     491     449   \n",
       "3     GBR   site        1221     732     702   \n",
       "4     TUR   site        1381     862     860   \n",
       "5     DEU   site        1150     889     959   \n",
       "6     BRA   site        1281    2284    2208   \n",
       "7     FRA   site        1290     715     753   \n",
       "8     AUS   site        1405     252     267   \n",
       "9     CAN   site        1175     443     337   \n",
       "\n",
       "                                  Status  \n",
       "0  There is enough data to run the test.  \n",
       "1  There is enough data to run the test.  \n",
       "2       Not enough data to run the test.  \n",
       "3       Not enough data to run the test.  \n",
       "4       Not enough data to run the test.  \n",
       "5       Not enough data to run the test.  \n",
       "6  There is enough data to run the test.  \n",
       "7       Not enough data to run the test.  \n",
       "8       Not enough data to run the test.  \n",
       "9       Not enough data to run the test.  "
      ]
     },
     "execution_count": 13,
     "metadata": {},
     "output_type": "execute_result"
    }
   ],
   "source": [
    "sizes_df_app = pd.DataFrame()\n",
    "data_sizes_countries_app = {}\n",
    "\n",
    "for country in countries:\n",
    "    \n",
    "    dfs = gu.data(dataframes[country])\n",
    "    x_b = dfs['app_b'].spent\n",
    "    stdev = x_b.std()\n",
    "    avg1 = x_b.mean()\n",
    "    effect_size = (avg1 * (1 + lift) - avg1)/stdev\n",
    "    \n",
    "    size = gu.sample_n(alpha=significance_lvl, power=power, effect_size=effect_size)\n",
    "    data_sizes_countries_app[country] = size\n",
    "    \n",
    "    size_app_a = len(dfs['app_a'])\n",
    "    size_app_b = len(dfs['app_b'])\n",
    "\n",
    "    status = \"Not enough data to run the test.\" if min(size_app_a, size_app_b) < size else \"There is enough data to run the test.\"\n",
    "\n",
    "    result = {'Country': country, 'Device': 'site', 'Sample size': size, 'Group B': size_app_b, 'Group A': size_app_a, 'Status': status}\n",
    "\n",
    "    sizes_df_app = pd.concat([sizes_df_app, pd.Series(result)], axis=1)\n",
    "\n",
    "sizes_df_app.T.reset_index(drop=True)"
   ]
  },
  {
   "cell_type": "markdown",
   "metadata": {},
   "source": [
    "Só temos dados suficientes, com os parâmetros definidos, para realizar o teste para México, Estados Unidos e Brasil."
   ]
  },
  {
   "attachments": {},
   "cell_type": "markdown",
   "metadata": {},
   "source": [
    "## 3.5 Homegeneidade das amostras"
   ]
  },
  {
   "cell_type": "code",
   "execution_count": 14,
   "metadata": {},
   "outputs": [
    {
     "data": {
      "text/html": [
       "<div>\n",
       "<style scoped>\n",
       "    .dataframe tbody tr th:only-of-type {\n",
       "        vertical-align: middle;\n",
       "    }\n",
       "\n",
       "    .dataframe tbody tr th {\n",
       "        vertical-align: top;\n",
       "    }\n",
       "\n",
       "    .dataframe thead th {\n",
       "        text-align: right;\n",
       "    }\n",
       "</style>\n",
       "<table border=\"1\" class=\"dataframe\">\n",
       "  <thead>\n",
       "    <tr style=\"text-align: right;\">\n",
       "      <th></th>\n",
       "      <th></th>\n",
       "      <th></th>\n",
       "      <th></th>\n",
       "      <th>uid</th>\n",
       "    </tr>\n",
       "    <tr>\n",
       "      <th>country</th>\n",
       "      <th>group</th>\n",
       "      <th>gender</th>\n",
       "      <th>device</th>\n",
       "      <th></th>\n",
       "    </tr>\n",
       "  </thead>\n",
       "  <tbody>\n",
       "    <tr>\n",
       "      <th rowspan=\"8\" valign=\"top\">BRA</th>\n",
       "      <th>GRP A</th>\n",
       "      <th>F</th>\n",
       "      <th>A</th>\n",
       "      <td>1044</td>\n",
       "    </tr>\n",
       "    <tr>\n",
       "      <th>GRP B</th>\n",
       "      <th>F</th>\n",
       "      <th>A</th>\n",
       "      <td>1135</td>\n",
       "    </tr>\n",
       "    <tr>\n",
       "      <th>GRP A</th>\n",
       "      <th>M</th>\n",
       "      <th>A</th>\n",
       "      <td>1164</td>\n",
       "    </tr>\n",
       "    <tr>\n",
       "      <th>GRP B</th>\n",
       "      <th>M</th>\n",
       "      <th>A</th>\n",
       "      <td>1149</td>\n",
       "    </tr>\n",
       "    <tr>\n",
       "      <th>GRP A</th>\n",
       "      <th>F</th>\n",
       "      <th>I</th>\n",
       "      <td>1169</td>\n",
       "    </tr>\n",
       "    <tr>\n",
       "      <th>GRP B</th>\n",
       "      <th>F</th>\n",
       "      <th>I</th>\n",
       "      <td>1073</td>\n",
       "    </tr>\n",
       "    <tr>\n",
       "      <th>GRP A</th>\n",
       "      <th>M</th>\n",
       "      <th>I</th>\n",
       "      <td>1141</td>\n",
       "    </tr>\n",
       "    <tr>\n",
       "      <th>GRP B</th>\n",
       "      <th>M</th>\n",
       "      <th>I</th>\n",
       "      <td>1134</td>\n",
       "    </tr>\n",
       "    <tr>\n",
       "      <th rowspan=\"8\" valign=\"top\">MEX</th>\n",
       "      <th>GRP A</th>\n",
       "      <th>F</th>\n",
       "      <th>A</th>\n",
       "      <td>692</td>\n",
       "    </tr>\n",
       "    <tr>\n",
       "      <th>GRP B</th>\n",
       "      <th>F</th>\n",
       "      <th>A</th>\n",
       "      <td>630</td>\n",
       "    </tr>\n",
       "    <tr>\n",
       "      <th>GRP A</th>\n",
       "      <th>M</th>\n",
       "      <th>A</th>\n",
       "      <td>759</td>\n",
       "    </tr>\n",
       "    <tr>\n",
       "      <th>GRP B</th>\n",
       "      <th>M</th>\n",
       "      <th>A</th>\n",
       "      <td>657</td>\n",
       "    </tr>\n",
       "    <tr>\n",
       "      <th>GRP A</th>\n",
       "      <th>F</th>\n",
       "      <th>I</th>\n",
       "      <td>712</td>\n",
       "    </tr>\n",
       "    <tr>\n",
       "      <th>GRP B</th>\n",
       "      <th>F</th>\n",
       "      <th>I</th>\n",
       "      <td>688</td>\n",
       "    </tr>\n",
       "    <tr>\n",
       "      <th>GRP A</th>\n",
       "      <th>M</th>\n",
       "      <th>I</th>\n",
       "      <td>723</td>\n",
       "    </tr>\n",
       "    <tr>\n",
       "      <th>GRP B</th>\n",
       "      <th>M</th>\n",
       "      <th>I</th>\n",
       "      <td>667</td>\n",
       "    </tr>\n",
       "    <tr>\n",
       "      <th rowspan=\"8\" valign=\"top\">USA</th>\n",
       "      <th>GRP A</th>\n",
       "      <th>F</th>\n",
       "      <th>A</th>\n",
       "      <td>1779</td>\n",
       "    </tr>\n",
       "    <tr>\n",
       "      <th>GRP B</th>\n",
       "      <th>F</th>\n",
       "      <th>A</th>\n",
       "      <td>1762</td>\n",
       "    </tr>\n",
       "    <tr>\n",
       "      <th>GRP A</th>\n",
       "      <th>M</th>\n",
       "      <th>A</th>\n",
       "      <td>1722</td>\n",
       "    </tr>\n",
       "    <tr>\n",
       "      <th>GRP B</th>\n",
       "      <th>M</th>\n",
       "      <th>A</th>\n",
       "      <td>1778</td>\n",
       "    </tr>\n",
       "    <tr>\n",
       "      <th>GRP A</th>\n",
       "      <th>F</th>\n",
       "      <th>I</th>\n",
       "      <td>1662</td>\n",
       "    </tr>\n",
       "    <tr>\n",
       "      <th>GRP B</th>\n",
       "      <th>F</th>\n",
       "      <th>I</th>\n",
       "      <td>1715</td>\n",
       "    </tr>\n",
       "    <tr>\n",
       "      <th>GRP A</th>\n",
       "      <th>M</th>\n",
       "      <th>I</th>\n",
       "      <td>1764</td>\n",
       "    </tr>\n",
       "    <tr>\n",
       "      <th>GRP B</th>\n",
       "      <th>M</th>\n",
       "      <th>I</th>\n",
       "      <td>1816</td>\n",
       "    </tr>\n",
       "  </tbody>\n",
       "</table>\n",
       "</div>"
      ],
      "text/plain": [
       "                              uid\n",
       "country group gender device      \n",
       "BRA     GRP A F      A       1044\n",
       "        GRP B F      A       1135\n",
       "        GRP A M      A       1164\n",
       "        GRP B M      A       1149\n",
       "        GRP A F      I       1169\n",
       "        GRP B F      I       1073\n",
       "        GRP A M      I       1141\n",
       "        GRP B M      I       1134\n",
       "MEX     GRP A F      A        692\n",
       "        GRP B F      A        630\n",
       "        GRP A M      A        759\n",
       "        GRP B M      A        657\n",
       "        GRP A F      I        712\n",
       "        GRP B F      I        688\n",
       "        GRP A M      I        723\n",
       "        GRP B M      I        667\n",
       "USA     GRP A F      A       1779\n",
       "        GRP B F      A       1762\n",
       "        GRP A M      A       1722\n",
       "        GRP B M      A       1778\n",
       "        GRP A F      I       1662\n",
       "        GRP B F      I       1715\n",
       "        GRP A M      I       1764\n",
       "        GRP B M      I       1816"
      ]
     },
     "execution_count": 14,
     "metadata": {},
     "output_type": "execute_result"
    }
   ],
   "source": [
    "df1.query(\"country in ('MEX', 'USA', 'BRA')\").groupby(['country',  'group', 'gender', 'device']).count()[['uid']].sort_values(['country', 'device', 'gender'])\n"
   ]
  },
  {
   "cell_type": "markdown",
   "metadata": {},
   "source": [
    "The proportion of users by gender in each group is similar."
   ]
  },
  {
   "cell_type": "markdown",
   "metadata": {},
   "source": [
    "![green-divider](https://user-images.githubusercontent.com/7065401/52071924-c003ad80-2562-11e9-8297-1c6595f8a7ff.png)\n"
   ]
  },
  {
   "attachments": {},
   "cell_type": "markdown",
   "metadata": {},
   "source": [
    "# 4.0. Testes"
   ]
  },
  {
   "attachments": {},
   "cell_type": "markdown",
   "metadata": {},
   "source": [
    "Para realizar os testes iremos separar os dados por país e por dispositivos. Faremos isso pois o comportamento dos clientes pode ser muito diferente para essas duas variáveis.\n",
    "\n",
    "Como foi visto na seção anterior, os teste serão feitos apenas para Estados Unidos, Brasil e México."
   ]
  },
  {
   "attachments": {},
   "cell_type": "markdown",
   "metadata": {},
   "source": [
    "## 4.1. Premissas do teste paramétrico.\n",
    "\n",
    "Para cada teste iremos vericar os seguintes pressupostos.\n",
    "- Amostras independentes.\n",
    "- A distribuição das médias amostrais é normal.\n",
    "- As variâncias dos dois grupos são iguais.\n",
    "\n",
    "O atendidemento ou não desses pressupostos irá definir qual teste de hipótese utilizaremos.\n",
    "\n",
    "\n",
    "|Distribution|Variance|Test\n",
    "|-----|------|------|\n",
    "Normally Distributed| Equal Variance| Student's t-Test\n",
    "Normally Distributed| Different Variance| Welch's t-Test\n",
    "Not Normally Distributed|| Mann Whitney U test\n",
    "\n",
    "\n",
    "Para verificar se as amostras são normalmente distribuídas, utilizaremos o teste de Shapiro-Wilk com um nível de significância de 0.05.\n",
    "\n",
    "Para verrificar se as variâncias são iguais, utilizaremos o test de Levene, também com um nível de significância de 0.05."
   ]
  },
  {
   "attachments": {},
   "cell_type": "markdown",
   "metadata": {},
   "source": [
    "## 4.2. Hipóteses"
   ]
  },
  {
   "attachments": {},
   "cell_type": "markdown",
   "metadata": {},
   "source": [
    "**Hipótese Nula**: O preenchimento automático e o preenchimento manual possuem médias de gastos iguais.\n",
    "\n",
    "**Hipótese Alternativa**: O preenchimento automático e o preenchimento manual possuem médias de gastos diferentes."
   ]
  },
  {
   "attachments": {},
   "cell_type": "markdown",
   "metadata": {},
   "source": [
    "## México"
   ]
  },
  {
   "cell_type": "code",
   "execution_count": 15,
   "metadata": {},
   "outputs": [],
   "source": [
    "dfs = gu.data(dataframes['MEX'])"
   ]
  },
  {
   "cell_type": "markdown",
   "metadata": {},
   "source": [
    "### Site"
   ]
  },
  {
   "cell_type": "code",
   "execution_count": 16,
   "metadata": {},
   "outputs": [
    {
     "name": "stdout",
     "output_type": "stream",
     "text": [
      "Site - Grupo A -> gasto médio: 1922.62\n",
      "Site - Grupo B -> gasto médio: 1846.11\n",
      "\n",
      "Mann Whitney U Test\n",
      "\n",
      "P-value: 0.1204\n",
      "Falha em rejeitar a hipótese nula.\n",
      "Não há evidências suficientes no nível de significância 0.05 para dizer que existe diferença entre as médias  dos grupos.\n",
      "Test Lift: 4.14%\n"
     ]
    }
   ],
   "source": [
    "sample_n = data_sizes_countries_site['MEX']\n",
    "\n",
    "x_site_a = dfs['site_a'].sample(sample_n, random_state=0).spent\n",
    "x_site_b = dfs['site_b'].sample(sample_n, random_state=0).spent\n",
    "\n",
    "print(f'Site - Grupo A -> gasto médio: {np.mean(x_site_a):.2f}')\n",
    "print(f'Site - Grupo B -> gasto médio: {np.mean(x_site_b):.2f}\\n')\n",
    "gu.test_results(x_site_a, x_site_b, alpha=significance_lvl, verbose=True)\n",
    "\n",
    "print(f'Test Lift: {test_lift(x_site_a.mean(), x_site_b.mean()):.2%}')"
   ]
  },
  {
   "attachments": {},
   "cell_type": "markdown",
   "metadata": {},
   "source": [
    "### App"
   ]
  },
  {
   "cell_type": "code",
   "execution_count": 17,
   "metadata": {},
   "outputs": [
    {
     "name": "stdout",
     "output_type": "stream",
     "text": [
      "App - Grupo A -> gasto médio: 1888.41\n",
      "App - Grupo B -> gasto médio: 1928.23\n",
      "\n",
      "Mann Whitney U Test\n",
      "\n",
      "P-value: 0.5713\n",
      "Falha em rejeitar a hipótese nula.\n",
      "Não há evidências suficientes no nível de significância 0.05 para dizer que existe diferença entre as médias  dos grupos.\n",
      "Test Lift: -2.07%\n"
     ]
    }
   ],
   "source": [
    "sample_n = data_sizes_countries_app['MEX']\n",
    "x_app_a = dfs['app_a'].sample(sample_n, random_state=0).spent\n",
    "x_app_b = dfs['app_b'].sample(sample_n, random_state=0).spent\n",
    "\n",
    "print(f'App - Grupo A -> gasto médio: {np.mean(x_app_a):.2f}')\n",
    "print(f'App - Grupo B -> gasto médio: {np.mean(x_app_b):.2f}\\n')\n",
    "gu.test_results(x_app_a, x_app_b, alpha=significance_lvl, verbose=True)\n",
    "\n",
    "print(f'Test Lift: {test_lift(x_app_a.mean(), x_app_b.mean()):.2%}')"
   ]
  },
  {
   "attachments": {},
   "cell_type": "markdown",
   "metadata": {},
   "source": [
    "## USA"
   ]
  },
  {
   "cell_type": "code",
   "execution_count": 18,
   "metadata": {},
   "outputs": [],
   "source": [
    "dfs = gu.data(dataframes['USA'])"
   ]
  },
  {
   "cell_type": "markdown",
   "metadata": {},
   "source": [
    "### Site"
   ]
  },
  {
   "cell_type": "code",
   "execution_count": 19,
   "metadata": {},
   "outputs": [
    {
     "name": "stdout",
     "output_type": "stream",
     "text": [
      "Site - Grupo A -> gasto médio: 1919.00\n",
      "Site - Grupo B -> gasto médio: 1882.38\n",
      "\n",
      "Mann Whitney U Test\n",
      "\n",
      "P-value: 0.4881\n",
      "Falha em rejeitar a hipótese nula.\n",
      "Não há evidências suficientes no nível de significância 0.05 para dizer que existe diferença entre as médias  dos grupos.\n",
      "Test Lift: 1.95%\n"
     ]
    }
   ],
   "source": [
    "sample_n = data_sizes_countries_site['USA']\n",
    "x_site_a = dfs['site_a'].sample(sample_n, random_state=0).spent\n",
    "x_site_b = dfs['site_b'].sample(sample_n, random_state=0).spent\n",
    "\n",
    "print(f'Site - Grupo A -> gasto médio: {np.mean(x_site_a):.2f}')\n",
    "print(f'Site - Grupo B -> gasto médio: {np.mean(x_site_b):.2f}\\n')\n",
    "gu.test_results(x_site_a, x_site_b, alpha=significance_lvl, verbose=True)\n",
    "\n",
    "print(f'Test Lift: {test_lift(x_site_a.mean(), x_site_b.mean()):.2%}')"
   ]
  },
  {
   "attachments": {},
   "cell_type": "markdown",
   "metadata": {},
   "source": [
    "### App"
   ]
  },
  {
   "cell_type": "code",
   "execution_count": 20,
   "metadata": {},
   "outputs": [
    {
     "name": "stdout",
     "output_type": "stream",
     "text": [
      "App - Grupo A -> gasto médio: 1888.14\n",
      "App - Grupo B -> gasto médio: 1858.35\n",
      "\n",
      "Mann Whitney U Test\n",
      "\n",
      "P-value: 0.2004\n",
      "Falha em rejeitar a hipótese nula.\n",
      "Não há evidências suficientes no nível de significância 0.05 para dizer que existe diferença entre as médias  dos grupos.\n",
      "Test Lift: 1.60%\n"
     ]
    }
   ],
   "source": [
    "sample_n = data_sizes_countries_app['USA']\n",
    "x_app_a = dfs['app_a'].sample(sample_n, random_state=0).spent\n",
    "x_app_b = dfs['app_b'].sample(sample_n, random_state=0).spent\n",
    "print(f'App - Grupo A -> gasto médio: {np.mean(x_app_a):.2f}')\n",
    "print(f'App - Grupo B -> gasto médio: {np.mean(x_app_b):.2f}\\n')\n",
    "gu.test_results(x_app_a, x_app_b, alpha=significance_lvl, verbose=True)\n",
    "\n",
    "print(f'Test Lift: {test_lift(x_app_a.mean(), x_app_b.mean()):.2%}')"
   ]
  },
  {
   "cell_type": "markdown",
   "metadata": {},
   "source": [
    "## Brazil"
   ]
  },
  {
   "cell_type": "markdown",
   "metadata": {},
   "source": [
    "### Site"
   ]
  },
  {
   "cell_type": "code",
   "execution_count": 21,
   "metadata": {},
   "outputs": [],
   "source": [
    "dfs = gu.data(dataframes['BRA'])"
   ]
  },
  {
   "cell_type": "code",
   "execution_count": 22,
   "metadata": {},
   "outputs": [
    {
     "name": "stdout",
     "output_type": "stream",
     "text": [
      "Site - Grupo A -> gasto médio: 1915.17\n",
      "Site - Grupo B -> gasto médio: 1933.36\n",
      "\n",
      "Mann Whitney U Test\n",
      "\n",
      "P-value: 0.5135\n",
      "Falha em rejeitar a hipótese nula.\n",
      "Não há evidências suficientes no nível de significância 0.05 para dizer que existe diferença entre as médias  dos grupos.\n",
      "Test Lift: -0.94%\n"
     ]
    }
   ],
   "source": [
    "sample_n = data_sizes_countries_site['BRA']\n",
    "x_site_a = dfs['site_a'].sample(sample_n, random_state=0).spent\n",
    "x_site_b = dfs['site_b'].sample(sample_n, random_state=0).spent\n",
    "\n",
    "print(f'Site - Grupo A -> gasto médio: {np.mean(x_site_a):.2f}')\n",
    "print(f'Site - Grupo B -> gasto médio: {np.mean(x_site_b):.2f}\\n')\n",
    "gu.test_results(x_site_a, x_site_b, alpha=significance_lvl, verbose=True)\n",
    "\n",
    "print(f'Test Lift: {test_lift(x_site_a.mean(), x_site_b.mean()):.2%}')"
   ]
  },
  {
   "attachments": {},
   "cell_type": "markdown",
   "metadata": {},
   "source": [
    "### App"
   ]
  },
  {
   "cell_type": "code",
   "execution_count": 23,
   "metadata": {},
   "outputs": [
    {
     "name": "stdout",
     "output_type": "stream",
     "text": [
      "App - Grupo A -> gasto médio: 1878.62\n",
      "App - Grupo B -> gasto médio: 1920.99\n",
      "\n",
      "Mann Whitney U Test\n",
      "\n",
      "P-value: 0.4059\n",
      "Falha em rejeitar a hipótese nula.\n",
      "Não há evidências suficientes no nível de significância 0.05 para dizer que existe diferença entre as médias  dos grupos.\n",
      "Test Lift: -2.21%\n"
     ]
    }
   ],
   "source": [
    "sample_n = data_sizes_countries_app['BRA']\n",
    "x_app_a = dfs['app_a'].sample(sample_n, random_state=0).spent\n",
    "x_app_b = dfs['app_b'].sample(sample_n, random_state=0).spent\n",
    "\n",
    "print(f'App - Grupo A -> gasto médio: {np.mean(x_app_a):.2f}')\n",
    "print(f'App - Grupo B -> gasto médio: {np.mean(x_app_b):.2f}\\n')\n",
    "gu.test_results(x_app_a, x_app_b, alpha=significance_lvl, verbose=True)\n",
    "\n",
    "\n",
    "print(f'Test Lift: {test_lift(x_app_a.mean(), x_app_b.mean()):.2%}')"
   ]
  },
  {
   "attachments": {},
   "cell_type": "markdown",
   "metadata": {},
   "source": [
    "## 4.3 Resumo"
   ]
  },
  {
   "cell_type": "code",
   "execution_count": 24,
   "metadata": {},
   "outputs": [],
   "source": [
    "countries_test = ['MEX', 'USA', 'BRA']\n",
    "\n",
    "results_site, results_app = gu.tests(countries_test, metric='spent',dataframes=dataframes, sizes_dict_site=data_sizes_countries_site, sizes_dict_app=data_sizes_countries_app)"
   ]
  },
  {
   "cell_type": "code",
   "execution_count": 25,
   "metadata": {},
   "outputs": [
    {
     "data": {
      "text/html": [
       "<div>\n",
       "<style scoped>\n",
       "    .dataframe tbody tr th:only-of-type {\n",
       "        vertical-align: middle;\n",
       "    }\n",
       "\n",
       "    .dataframe tbody tr th {\n",
       "        vertical-align: top;\n",
       "    }\n",
       "\n",
       "    .dataframe thead th {\n",
       "        text-align: right;\n",
       "    }\n",
       "</style>\n",
       "<table border=\"1\" class=\"dataframe\">\n",
       "  <thead>\n",
       "    <tr style=\"text-align: right;\">\n",
       "      <th></th>\n",
       "      <th>País</th>\n",
       "      <th>Dispositivo</th>\n",
       "      <th>Teste</th>\n",
       "      <th>Hipótese</th>\n",
       "      <th>p-value</th>\n",
       "      <th>Comentário</th>\n",
       "    </tr>\n",
       "  </thead>\n",
       "  <tbody>\n",
       "    <tr>\n",
       "      <th>0</th>\n",
       "      <td>MEX</td>\n",
       "      <td>Site</td>\n",
       "      <td>Mann Whitney U Test</td>\n",
       "      <td>Falha em rejeitar a hipótese nula.</td>\n",
       "      <td>0.120359</td>\n",
       "      <td>Não há evidências suficientes no nível de significância 0.05 para dizer que existe diferença entre as médias  dos grupos.</td>\n",
       "    </tr>\n",
       "    <tr>\n",
       "      <th>0</th>\n",
       "      <td>USA</td>\n",
       "      <td>Site</td>\n",
       "      <td>Mann Whitney U Test</td>\n",
       "      <td>Falha em rejeitar a hipótese nula.</td>\n",
       "      <td>0.488118</td>\n",
       "      <td>Não há evidências suficientes no nível de significância 0.05 para dizer que existe diferença entre as médias  dos grupos.</td>\n",
       "    </tr>\n",
       "    <tr>\n",
       "      <th>0</th>\n",
       "      <td>BRA</td>\n",
       "      <td>Site</td>\n",
       "      <td>Mann Whitney U Test</td>\n",
       "      <td>Falha em rejeitar a hipótese nula.</td>\n",
       "      <td>0.513473</td>\n",
       "      <td>Não há evidências suficientes no nível de significância 0.05 para dizer que existe diferença entre as médias  dos grupos.</td>\n",
       "    </tr>\n",
       "  </tbody>\n",
       "</table>\n",
       "</div>"
      ],
      "text/plain": [
       "  País Dispositivo                Teste                            Hipótese  \\\n",
       "0  MEX        Site  Mann Whitney U Test  Falha em rejeitar a hipótese nula.   \n",
       "0  USA        Site  Mann Whitney U Test  Falha em rejeitar a hipótese nula.   \n",
       "0  BRA        Site  Mann Whitney U Test  Falha em rejeitar a hipótese nula.   \n",
       "\n",
       "    p-value  \\\n",
       "0  0.120359   \n",
       "0  0.488118   \n",
       "0  0.513473   \n",
       "\n",
       "                                                                                                                  Comentário  \n",
       "0  Não há evidências suficientes no nível de significância 0.05 para dizer que existe diferença entre as médias  dos grupos.  \n",
       "0  Não há evidências suficientes no nível de significância 0.05 para dizer que existe diferença entre as médias  dos grupos.  \n",
       "0  Não há evidências suficientes no nível de significância 0.05 para dizer que existe diferença entre as médias  dos grupos.  "
      ]
     },
     "execution_count": 25,
     "metadata": {},
     "output_type": "execute_result"
    }
   ],
   "source": [
    "results_site.T"
   ]
  },
  {
   "cell_type": "code",
   "execution_count": 26,
   "metadata": {},
   "outputs": [
    {
     "data": {
      "text/html": [
       "<div>\n",
       "<style scoped>\n",
       "    .dataframe tbody tr th:only-of-type {\n",
       "        vertical-align: middle;\n",
       "    }\n",
       "\n",
       "    .dataframe tbody tr th {\n",
       "        vertical-align: top;\n",
       "    }\n",
       "\n",
       "    .dataframe thead th {\n",
       "        text-align: right;\n",
       "    }\n",
       "</style>\n",
       "<table border=\"1\" class=\"dataframe\">\n",
       "  <thead>\n",
       "    <tr style=\"text-align: right;\">\n",
       "      <th></th>\n",
       "      <th>País</th>\n",
       "      <th>Dispositivo</th>\n",
       "      <th>Teste</th>\n",
       "      <th>Hipótese</th>\n",
       "      <th>p-value</th>\n",
       "      <th>Comentário</th>\n",
       "    </tr>\n",
       "  </thead>\n",
       "  <tbody>\n",
       "    <tr>\n",
       "      <th>0</th>\n",
       "      <td>MEX</td>\n",
       "      <td>App</td>\n",
       "      <td>Mann Whitney U Test</td>\n",
       "      <td>Falha em rejeitar a hipótese nula.</td>\n",
       "      <td>0.571257</td>\n",
       "      <td>Não há evidências suficientes no nível de significância 0.05 para dizer que existe diferença entre as médias  dos grupos.</td>\n",
       "    </tr>\n",
       "    <tr>\n",
       "      <th>0</th>\n",
       "      <td>USA</td>\n",
       "      <td>App</td>\n",
       "      <td>Mann Whitney U Test</td>\n",
       "      <td>Falha em rejeitar a hipótese nula.</td>\n",
       "      <td>0.200415</td>\n",
       "      <td>Não há evidências suficientes no nível de significância 0.05 para dizer que existe diferença entre as médias  dos grupos.</td>\n",
       "    </tr>\n",
       "    <tr>\n",
       "      <th>0</th>\n",
       "      <td>BRA</td>\n",
       "      <td>App</td>\n",
       "      <td>Mann Whitney U Test</td>\n",
       "      <td>Falha em rejeitar a hipótese nula.</td>\n",
       "      <td>0.405948</td>\n",
       "      <td>Não há evidências suficientes no nível de significância 0.05 para dizer que existe diferença entre as médias  dos grupos.</td>\n",
       "    </tr>\n",
       "  </tbody>\n",
       "</table>\n",
       "</div>"
      ],
      "text/plain": [
       "  País Dispositivo                Teste                            Hipótese  \\\n",
       "0  MEX         App  Mann Whitney U Test  Falha em rejeitar a hipótese nula.   \n",
       "0  USA         App  Mann Whitney U Test  Falha em rejeitar a hipótese nula.   \n",
       "0  BRA         App  Mann Whitney U Test  Falha em rejeitar a hipótese nula.   \n",
       "\n",
       "    p-value  \\\n",
       "0  0.571257   \n",
       "0  0.200415   \n",
       "0  0.405948   \n",
       "\n",
       "                                                                                                                  Comentário  \n",
       "0  Não há evidências suficientes no nível de significância 0.05 para dizer que existe diferença entre as médias  dos grupos.  \n",
       "0  Não há evidências suficientes no nível de significância 0.05 para dizer que existe diferença entre as médias  dos grupos.  \n",
       "0  Não há evidências suficientes no nível de significância 0.05 para dizer que existe diferença entre as médias  dos grupos.  "
      ]
     },
     "execution_count": 26,
     "metadata": {},
     "output_type": "execute_result"
    }
   ],
   "source": [
    "results_app.T"
   ]
  },
  {
   "cell_type": "markdown",
   "metadata": {},
   "source": [
    "![green-divider](https://user-images.githubusercontent.com/7065401/52071924-c003ad80-2562-11e9-8297-1c6595f8a7ff.png)\n"
   ]
  },
  {
   "cell_type": "markdown",
   "metadata": {},
   "source": [
    "# 5.0 Resultados"
   ]
  },
  {
   "attachments": {},
   "cell_type": "markdown",
   "metadata": {},
   "source": [
    "Com os parâmetros utilizados, não foi possível realizar testes para os seguintes países: Espanha, Grã Bretanha, Turquia, Alemanha, França, Austria e Canada. Então reportamos ao time de negócio que precisamos coletar mais dados para estes países, se quisermos realizar testes com resultados confiáveis.\n",
    "\n",
    "Foi possível realizar os testes para Estados Unidos, Brasil e México — tanto para o site quanto para o app. Mas não obtivemos resultados estatisticamente significativos para dizer que há diferença entre as médias do preenchimento automático e manual.\n",
    "\n",
    "Possíveis cenários:\n",
    "\n",
    "- Existe algum problema no formulário de preenchimento automático que esteja atrapalhando a sua performance. E devemos realizar novos testes após a correção do problema.\n",
    "- Não há problema com o formulário de preenchimento automático. Este método apenas não funciona para estes países e não vale a pena implementa-lo.\n",
    "- Problema no processo de aleatorização dos elementos dos grupos."
   ]
  },
  {
   "attachments": {},
   "cell_type": "markdown",
   "metadata": {},
   "source": [
    "OBS: É recomenado realizar vários testes A/A, antes e/ou em paralelo, ao teste A/B para descobrirmos se há algum problema em nosso exprimento. Por exemplo: \n",
    "- Anomalias na plataforma, \n",
    "- Verificar se o erro tipo I está controlado\n",
    "- Variação da métrica ao longo do tempo\n",
    "- Verificar se há algum viés entre tratamento e controle."
   ]
  },
  {
   "cell_type": "markdown",
   "metadata": {},
   "source": [
    "## 6.0 Referências"
   ]
  },
  {
   "attachments": {},
   "cell_type": "markdown",
   "metadata": {},
   "source": [
    "Kohavi, R., D. Tang, Y. Xu. Trustworthy Online Controlled Experiments: A Practical Guide to A/B Testing.\n",
    "Cambridge, UK: Cambridge University Press, in press.\n",
    "\n",
    "Stefan Thomke. Experimentation works : the surprising power of business experiments. Boston, Massachusetts : Harvard Business Review Press.\n",
    "\n",
    "Cohen, J. Statistical Power Analysis for the Behavioral Sciences. Department of Psychology, New York University.\n",
    "\n",
    "https://towardsdatascience.com/simple-and-complet-guide-to-a-b-testing-c34154d0ce5a"
   ]
  }
 ],
 "metadata": {
  "kernelspec": {
   "display_name": "Python 3.9.12 ('myenv')",
   "language": "python",
   "name": "python3"
  },
  "language_info": {
   "codemirror_mode": {
    "name": "ipython",
    "version": 3
   },
   "file_extension": ".py",
   "mimetype": "text/x-python",
   "name": "python",
   "nbconvert_exporter": "python",
   "pygments_lexer": "ipython3",
   "version": "3.9.12"
  },
  "orig_nbformat": 4,
  "vscode": {
   "interpreter": {
    "hash": "aee06198dea98945d82ab1441d27fc7e56c34d532680298c27a8d7647830657e"
   }
  }
 },
 "nbformat": 4,
 "nbformat_minor": 2
}
